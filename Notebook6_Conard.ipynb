{
  "nbformat": 4,
  "nbformat_minor": 0,
  "metadata": {
    "colab": {
      "name": "Notebook6_starter.ipynb",
      "provenance": [],
      "include_colab_link": true
    },
    "kernelspec": {
      "name": "python3",
      "display_name": "Python 3"
    },
    "language_info": {
      "name": "python"
    },
    "accelerator": "GPU"
  },
  "cells": [
    {
      "cell_type": "markdown",
      "metadata": {
        "id": "view-in-github",
        "colab_type": "text"
      },
      "source": [
        "<a href=\"https://colab.research.google.com/github/jordynconard/Day02_Lab/blob/main/Notebook6_Conard.ipynb\" target=\"_parent\"><img src=\"https://colab.research.google.com/assets/colab-badge.svg\" alt=\"Open In Colab\"/></a>"
      ]
    },
    {
      "cell_type": "markdown",
      "metadata": {
        "id": "XHNyMbAY0QB5"
      },
      "source": [
        "# Notebook \\# 6\n",
        "Name: Jordyn Conard\n",
        "\n",
        "Date: November 23rd, 2021\n",
        "\n",
        "## Problem Description: \n",
        "How accurate can a trained convolutional neural network for an image recognition task be? In this case, the algorithm will utilize a dataset of chest x-ray images to help learn how to diagnose pneumonia.\n",
        "\n",
        "\n",
        "\n",
        "### Hints/ Tips Tricks\n",
        "- Don't forget to enable GPUs under 'Edit', 'Notebook Settings', 'Accerlate Hardware', 'GPU'.\n",
        "- Make sure you unzip the data and put it in your Drive.\n"
      ]
    },
    {
      "cell_type": "code",
      "metadata": {
        "id": "9TyLjTVU0MQr"
      },
      "source": [
        "import keras\n",
        "import tensorflow \n",
        "import sys\n",
        "from matplotlib import pyplot\n",
        "from tensorflow.keras.utils import to_categorical\n",
        "from keras.models import Sequential\n",
        "from keras.layers import Conv2D\n",
        "from keras.layers import MaxPooling2D\n",
        "from keras.layers import Dense\n",
        "from keras.layers import Flatten\n",
        "from tensorflow.keras.optimizers import SGD\n",
        "from keras.preprocessing.image import ImageDataGenerator\n",
        "import sys\n"
      ],
      "execution_count": null,
      "outputs": []
    },
    {
      "cell_type": "code",
      "metadata": {
        "id": "jRkPEaw6vTSz",
        "colab": {
          "base_uri": "https://localhost:8080/"
        },
        "outputId": "2546951d-37a8-4b67-e671-1ba986853665"
      },
      "source": [
        "## Connect to Drive\n",
        "from google.colab import drive\n",
        "import pandas\n",
        "drive.mount('/content/drive')"
      ],
      "execution_count": null,
      "outputs": [
        {
          "output_type": "stream",
          "name": "stdout",
          "text": [
            "Mounted at /content/drive\n"
          ]
        }
      ]
    },
    {
      "cell_type": "code",
      "metadata": {
        "id": "FmhOiqzLwP4Y",
        "colab": {
          "base_uri": "https://localhost:8080/"
        },
        "outputId": "f0149069-2f25-4f82-d037-2a00705bad03"
      },
      "source": [
        "## Enable GPU\n",
        "%tensorflow_version 2.x\n",
        "import tensorflow as tf\n",
        "device_name = tf.test.gpu_device_name()\n",
        "if device_name != '/device:GPU:0':\n",
        "  raise SystemError('GPU device not found')\n",
        "print('Found GPU at: {}'.format(device_name))\n",
        "\n",
        "#ignore warnings\n",
        "import warnings\n",
        "warnings.filterwarnings('ignore')"
      ],
      "execution_count": null,
      "outputs": [
        {
          "output_type": "stream",
          "name": "stdout",
          "text": [
            "Found GPU at: /device:GPU:0\n"
          ]
        }
      ]
    },
    {
      "cell_type": "code",
      "metadata": {
        "id": "u13Ziw45vWn2"
      },
      "source": [
        "## Image dimensions\n",
        "img_width = 200\n",
        "img_height = 200\n",
        "\n",
        "## Directories for testing and training data\n",
        "train_data_dir = '/content/drive/MyDrive/CS167/datasets/chest_xray/train' \n",
        "test_data_dir = '/content/drive/MyDrive/CS167/datasets/chest_xray/test'\n",
        "\n",
        "## To feed the training images to the neural network in batches of 32 images at a time\n",
        "batch_size = 32\n",
        "\n",
        "## Rescale pixel values from [0, 255] to between 0 and 1\n",
        "datagen = ImageDataGenerator(rescale=1.0/255.0)"
      ],
      "execution_count": null,
      "outputs": []
    },
    {
      "cell_type": "code",
      "metadata": {
        "id": "03vPrurmvdZ9",
        "colab": {
          "base_uri": "https://localhost:8080/"
        },
        "outputId": "313f6a5d-9b22-4fc0-98e2-60f147d8ec9e"
      },
      "source": [
        "## Look for training and testing data and figure out the class of each example based on subfolder\n",
        "train_data = datagen.flow_from_directory(\n",
        "        train_data_dir,\n",
        "        target_size=(img_width, img_height),\n",
        "        batch_size=batch_size,\n",
        "        class_mode='binary')\n",
        "\n",
        "test_data = datagen.flow_from_directory(\n",
        "        test_data_dir,\n",
        "        target_size=(img_width, img_height),\n",
        "        batch_size=batch_size,\n",
        "        class_mode='binary')"
      ],
      "execution_count": null,
      "outputs": [
        {
          "output_type": "stream",
          "name": "stdout",
          "text": [
            "Found 5230 images belonging to 2 classes.\n",
            "Found 624 images belonging to 2 classes.\n"
          ]
        }
      ]
    },
    {
      "cell_type": "code",
      "metadata": {
        "id": "t_i-Cfa41ZvU"
      },
      "source": [
        "## Baseline model\n",
        "\n",
        "## Setting up a sequential model with 3 convolutional layers, each with 32 feature maps\n",
        "## from regions that are 3x3 in the image\n",
        "model = Sequential()\n",
        "model.add(Conv2D(32, (3, 3), activation = 'relu', input_shape=(img_width, img_height, 3)))\n",
        "model.add(MaxPooling2D(pool_size=(2, 2)))\n",
        "model.add(Conv2D(32, (3, 3), activation = 'relu'))\n",
        "model.add(MaxPooling2D(pool_size=(2, 2)))\n",
        "\n",
        "model.add(Flatten()) #flatten the convolutional layer so it can go into a fully-connected layer\n",
        "model.add(Dense(32)) #fully-connected layer\n",
        "model.add(Dense(1,activation='sigmoid'))\n",
        "\n",
        "## Compile the model \n",
        "opt = SGD(lr=0.001, momentum=0.9)\n",
        "model.compile(optimizer=opt, loss='binary_crossentropy', metrics=['accuracy'])\n"
      ],
      "execution_count": null,
      "outputs": []
    },
    {
      "cell_type": "code",
      "metadata": {
        "id": "VZQewg_nxMwz",
        "colab": {
          "base_uri": "https://localhost:8080/"
        },
        "outputId": "3c74793f-3b8b-4f00-ff1c-a5ae315ebf2e"
      },
      "source": [
        "## Train the baseline model\n",
        "training_results = model.fit_generator(\n",
        "        train_data, #training set\n",
        "        steps_per_epoch = len(train_data), \n",
        "        epochs=5, #number of epochs \n",
        "        validation_data = test_data, #testing set\n",
        "        validation_steps = len(test_data)\n",
        "        )"
      ],
      "execution_count": null,
      "outputs": [
        {
          "output_type": "stream",
          "name": "stdout",
          "text": [
            "Epoch 1/5\n",
            "164/164 [==============================] - 1131s 7s/step - loss: 0.3137 - accuracy: 0.8715 - val_loss: 0.3684 - val_accuracy: 0.8269\n",
            "Epoch 2/5\n",
            "164/164 [==============================] - 20s 122ms/step - loss: 0.1797 - accuracy: 0.9306 - val_loss: 0.4170 - val_accuracy: 0.8173\n",
            "Epoch 3/5\n",
            "164/164 [==============================] - 20s 122ms/step - loss: 0.1470 - accuracy: 0.9434 - val_loss: 0.5442 - val_accuracy: 0.7869\n",
            "Epoch 4/5\n",
            "164/164 [==============================] - 20s 121ms/step - loss: 0.1304 - accuracy: 0.9512 - val_loss: 0.8063 - val_accuracy: 0.7308\n",
            "Epoch 5/5\n",
            "164/164 [==============================] - 20s 121ms/step - loss: 0.1167 - accuracy: 0.9556 - val_loss: 0.5464 - val_accuracy: 0.7997\n"
          ]
        }
      ]
    },
    {
      "cell_type": "code",
      "metadata": {
        "id": "E-Jns_pLz4ri",
        "colab": {
          "base_uri": "https://localhost:8080/",
          "height": 295
        },
        "outputId": "5a2f8102-0856-435e-af36-f261fc41cbba"
      },
      "source": [
        "## Baseline model graph\n",
        "import matplotlib.pyplot as plt\n",
        "%matplotlib inline\n",
        "\n",
        "plt.plot(training_results.history['accuracy'])\n",
        "plt.plot(training_results.history['val_accuracy'])\n",
        "plt.title('Model Accuracy')\n",
        "plt.ylabel('Accuracy')\n",
        "plt.xlabel('Epoch')\n",
        "plt.legend(['Train', 'Test'], loc='upper left')\n",
        "plt.show()"
      ],
      "execution_count": null,
      "outputs": [
        {
          "output_type": "display_data",
          "data": {
            "image/png": "[encoded data removed]",
            "text/plain": [
              "<Figure size 432x288 with 1 Axes>"
            ]
          },
          "metadata": {
            "needs_background": "light"
          }
        }
      ]
    },
    {
      "cell_type": "code",
      "metadata": {
        "id": "s6pQIIoZ0Mo-"
      },
      "source": [
        "## Tuned CNN\n",
        "model2 = Sequential()\n",
        "model2.add(Conv2D(32, (4, 4), activation = 'relu', input_shape=(img_width, img_height, 3)))\n",
        "model2.add(MaxPooling2D(pool_size=(2, 2)))\n",
        "\n",
        "model2.add(Conv2D(32, (4, 4),activation = 'relu'))\n",
        "model2.add(MaxPooling2D(pool_size=(2, 2)))\n",
        "\n",
        "model2.add(Conv2D(64, (4, 4),activation = 'relu'))\n",
        "model2.add(MaxPooling2D(pool_size=(2, 2)))\n",
        "\n",
        "model2.add(Conv2D(64, (4, 4),activation = 'relu'))\n",
        "model2.add(MaxPooling2D(pool_size=(2, 2)))\n",
        "\n",
        "model2.add(Flatten())\n",
        "model2.add(Dense(64,activation = 'relu'))\n",
        "model2.add(Dense(1,activation='sigmoid'))\n",
        "\n",
        "## Complile the model\n",
        "opt = SGD(lr=0.001, momentum=0.9)\n",
        "model2.compile(optimizer=opt, loss='binary_crossentropy', metrics=['accuracy'])"
      ],
      "execution_count": null,
      "outputs": []
    },
    {
      "cell_type": "code",
      "metadata": {
        "id": "lZRBFQms0SsP",
        "colab": {
          "base_uri": "https://localhost:8080/"
        },
        "outputId": "ac41c692-d050-4f94-a621-0ad17c6c10f2"
      },
      "source": [
        "## Train tuned model\n",
        "training_results2 = model2.fit_generator(\n",
        "        train_data, #training set\n",
        "        steps_per_epoch = len(train_data), \n",
        "        epochs=10, #number of epochs \n",
        "        validation_data = test_data, #testing set\n",
        "        validation_steps = len(test_data)\n",
        "        )"
      ],
      "execution_count": null,
      "outputs": [
        {
          "output_type": "stream",
          "name": "stdout",
          "text": [
            "Epoch 1/10\n",
            "164/164 [==============================] - 23s 128ms/step - loss: 0.5731 - accuracy: 0.7428 - val_loss: 0.6439 - val_accuracy: 0.6250\n",
            "Epoch 2/10\n",
            "164/164 [==============================] - 20s 122ms/step - loss: 0.3863 - accuracy: 0.8163 - val_loss: 0.3813 - val_accuracy: 0.8381\n",
            "Epoch 3/10\n",
            "164/164 [==============================] - 20s 125ms/step - loss: 0.2024 - accuracy: 0.9155 - val_loss: 0.6678 - val_accuracy: 0.7580\n",
            "Epoch 4/10\n",
            "164/164 [==============================] - 20s 123ms/step - loss: 0.1528 - accuracy: 0.9400 - val_loss: 1.1817 - val_accuracy: 0.6907\n",
            "Epoch 5/10\n",
            "164/164 [==============================] - 20s 121ms/step - loss: 0.1410 - accuracy: 0.9455 - val_loss: 0.6211 - val_accuracy: 0.7772\n",
            "Epoch 6/10\n",
            "164/164 [==============================] - 20s 120ms/step - loss: 0.1224 - accuracy: 0.9535 - val_loss: 1.1494 - val_accuracy: 0.7051\n",
            "Epoch 7/10\n",
            "164/164 [==============================] - 20s 121ms/step - loss: 0.1296 - accuracy: 0.9509 - val_loss: 0.7199 - val_accuracy: 0.7564\n",
            "Epoch 8/10\n",
            "164/164 [==============================] - 20s 119ms/step - loss: 0.1156 - accuracy: 0.9553 - val_loss: 0.6851 - val_accuracy: 0.7724\n",
            "Epoch 9/10\n",
            "164/164 [==============================] - 20s 120ms/step - loss: 0.0963 - accuracy: 0.9629 - val_loss: 0.9494 - val_accuracy: 0.7356\n",
            "Epoch 10/10\n",
            "164/164 [==============================] - 20s 122ms/step - loss: 0.0965 - accuracy: 0.9688 - val_loss: 0.5592 - val_accuracy: 0.8045\n"
          ]
        }
      ]
    },
    {
      "cell_type": "code",
      "metadata": {
        "id": "WceAN_fy0Zvj",
        "colab": {
          "base_uri": "https://localhost:8080/",
          "height": 295
        },
        "outputId": "9e32d702-19a0-441a-fc3e-a8e73a323f74"
      },
      "source": [
        "## Tuned model graph\n",
        "plt.plot(training_results.history['accuracy'])\n",
        "plt.plot(training_results.history['val_accuracy'])\n",
        "plt.title('Model Accuracy')\n",
        "plt.ylabel('Accuracy')\n",
        "plt.xlabel('Epoch')\n",
        "plt.legend(['Train', 'Test'], loc='upper left')\n",
        "plt.show()"
      ],
      "execution_count": null,
      "outputs": [
        {
          "output_type": "display_data",
          "data": {
            "image/png": "[encoded data removed]",
            "text/plain": [
              "<Figure size 432x288 with 1 Axes>"
            ]
          },
          "metadata": {
            "needs_background": "light"
          }
        }
      ]
    },
    {
      "cell_type": "code",
      "metadata": {
        "id": "TSa2ChQL7QCv"
      },
      "source": [
        "## SECOND TUNED\n",
        "model3 = Sequential()\n",
        "model3.add(Conv2D(32, (5, 5), activation = 'relu', input_shape=(img_width, img_height, 3)))\n",
        "model3.add(MaxPooling2D(pool_size=(2, 2)))\n",
        "\n",
        "model3.add(Conv2D(32, (5, 5),activation = 'relu'))\n",
        "model3.add(MaxPooling2D(pool_size=(2, 2)))\n",
        "\n",
        "model3.add(Conv2D(32, (5, 5),activation = 'relu'))\n",
        "model3.add(MaxPooling2D(pool_size=(2, 2)))\n",
        "\n",
        "model3.add(Conv2D(64, (5, 5),activation = 'relu'))\n",
        "model3.add(MaxPooling2D(pool_size=(2, 2)))\n",
        "\n",
        "model3.add(Conv2D(64, (5, 5),activation = 'relu'))\n",
        "model3.add(MaxPooling2D(pool_size=(2, 2)))\n",
        "\n",
        "\n",
        "model3.add(Flatten())\n",
        "model3.add(Dense(64,activation = 'relu'))\n",
        "model3.add(Dense(1,activation='sigmoid'))\n",
        "\n",
        "## Complile the model\n",
        "opt = SGD(lr=0.001, momentum=0.9)\n",
        "model3.compile(optimizer=opt, loss='binary_crossentropy', metrics=['accuracy'])"
      ],
      "execution_count": null,
      "outputs": []
    },
    {
      "cell_type": "code",
      "metadata": {
        "id": "37CNHbSg7kag",
        "colab": {
          "base_uri": "https://localhost:8080/"
        },
        "outputId": "25fe8429-2b37-4e76-f8ec-18f7c567073c"
      },
      "source": [
        "## Train tuned model\n",
        "training_results3 = model3.fit_generator(\n",
        "        train_data, #training set\n",
        "        steps_per_epoch = len(train_data), \n",
        "        epochs=10, #number of epochs \n",
        "        validation_data = test_data, #testing set\n",
        "        validation_steps = len(test_data)\n",
        "        )"
      ],
      "execution_count": null,
      "outputs": [
        {
          "output_type": "stream",
          "name": "stdout",
          "text": [
            "Epoch 1/10\n",
            "164/164 [==============================] - 23s 132ms/step - loss: 0.5664 - accuracy: 0.7428 - val_loss: 0.6535 - val_accuracy: 0.6250\n",
            "Epoch 2/10\n",
            "164/164 [==============================] - 21s 126ms/step - loss: 0.3928 - accuracy: 0.8268 - val_loss: 0.5168 - val_accuracy: 0.7869\n",
            "Epoch 3/10\n",
            "164/164 [==============================] - 21s 126ms/step - loss: 0.2510 - accuracy: 0.8967 - val_loss: 0.4573 - val_accuracy: 0.8045\n",
            "Epoch 4/10\n",
            "164/164 [==============================] - 21s 126ms/step - loss: 0.1793 - accuracy: 0.9272 - val_loss: 0.6957 - val_accuracy: 0.7580\n",
            "Epoch 5/10\n",
            "164/164 [==============================] - 21s 126ms/step - loss: 0.1612 - accuracy: 0.9346 - val_loss: 0.4533 - val_accuracy: 0.8173\n",
            "Epoch 6/10\n",
            "164/164 [==============================] - 20s 124ms/step - loss: 0.1404 - accuracy: 0.9470 - val_loss: 0.8160 - val_accuracy: 0.7420\n",
            "Epoch 7/10\n",
            "164/164 [==============================] - 21s 125ms/step - loss: 0.1237 - accuracy: 0.9518 - val_loss: 1.0123 - val_accuracy: 0.7115\n",
            "Epoch 8/10\n",
            "164/164 [==============================] - 20s 124ms/step - loss: 0.1231 - accuracy: 0.9537 - val_loss: 0.4060 - val_accuracy: 0.8478\n",
            "Epoch 9/10\n",
            "164/164 [==============================] - 20s 123ms/step - loss: 0.1025 - accuracy: 0.9589 - val_loss: 1.0507 - val_accuracy: 0.7244\n",
            "Epoch 10/10\n",
            "164/164 [==============================] - 20s 124ms/step - loss: 0.1010 - accuracy: 0.9621 - val_loss: 0.7587 - val_accuracy: 0.7853\n"
          ]
        }
      ]
    },
    {
      "cell_type": "code",
      "metadata": {
        "id": "XFBzwovr7mtr",
        "colab": {
          "base_uri": "https://localhost:8080/",
          "height": 295
        },
        "outputId": "4dd8094c-9dd3-4398-8b67-97ae9dab1f24"
      },
      "source": [
        "## Tuned model graph\n",
        "plt.plot(training_results.history['accuracy'])\n",
        "plt.plot(training_results.history['val_accuracy'])\n",
        "plt.title('Model Accuracy')\n",
        "plt.ylabel('Accuracy')\n",
        "plt.xlabel('Epoch')\n",
        "plt.legend(['Train', 'Test'], loc='upper left')\n",
        "plt.show()"
      ],
      "execution_count": null,
      "outputs": [
        {
          "output_type": "display_data",
          "data": {
            "image/png": "[encoded data removed]",
            "text/plain": [
              "<Figure size 432x288 with 1 Axes>"
            ]
          },
          "metadata": {
            "needs_background": "light"
          }
        }
      ]
    },
    {
      "cell_type": "markdown",
      "metadata": {
        "id": "XdDWWyE6zTXJ"
      },
      "source": [
        "#Conclusion\n",
        "####What configuration of your CNN proved to be more accurate? Why do you think this is the case?\n",
        "\n",
        "The configuration of my CNN that proved to be the most accurate is the second tuned model. I believe this is the case because of the amount/type of layers.\n",
        "\n",
        "####How accurate can you make your CNN predictor? I will award a bonus point to the student who can achieve the most accurate model.\n",
        "\n",
        "\n",
        "\n"
      ]
    }
  ]
}